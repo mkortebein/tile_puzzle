{
 "cells": [
  {
   "cell_type": "code",
   "execution_count": 1,
   "metadata": {
    "scrolled": true
   },
   "outputs": [],
   "source": [
    "import funny_puzzle"
   ]
  },
  {
   "cell_type": "code",
   "execution_count": 2,
   "metadata": {},
   "outputs": [
    {
     "name": "stdout",
     "output_type": "stream",
     "text": [
      "[1, 2, 4, 3, 7, 5, 0, 8, 6] h=10 moves: 0\n",
      "[1, 2, 4, 0, 7, 5, 3, 8, 6] h=11 moves: 1\n",
      "[1, 2, 4, 7, 0, 5, 3, 8, 6] h=10 moves: 2\n",
      "[1, 2, 4, 7, 5, 0, 3, 8, 6] h=9 moves: 3\n",
      "[1, 2, 0, 7, 5, 4, 3, 8, 6] h=8 moves: 4\n",
      "[1, 0, 2, 7, 5, 4, 3, 8, 6] h=9 moves: 5\n",
      "[1, 5, 2, 7, 0, 4, 3, 8, 6] h=10 moves: 6\n",
      "[1, 5, 2, 7, 4, 0, 3, 8, 6] h=9 moves: 7\n",
      "[1, 5, 2, 7, 4, 6, 3, 8, 0] h=8 moves: 8\n",
      "[1, 5, 2, 7, 4, 6, 3, 0, 8] h=9 moves: 9\n",
      "[1, 5, 2, 7, 4, 6, 0, 3, 8] h=8 moves: 10\n",
      "[1, 5, 2, 0, 4, 6, 7, 3, 8] h=7 moves: 11\n",
      "[1, 5, 2, 4, 0, 6, 7, 3, 8] h=6 moves: 12\n",
      "[1, 5, 2, 4, 3, 6, 7, 0, 8] h=5 moves: 13\n",
      "[1, 5, 2, 4, 3, 6, 7, 8, 0] h=4 moves: 14\n",
      "[1, 5, 2, 4, 3, 0, 7, 8, 6] h=5 moves: 15\n",
      "[1, 5, 2, 4, 0, 3, 7, 8, 6] h=4 moves: 16\n",
      "[1, 0, 2, 4, 5, 3, 7, 8, 6] h=3 moves: 17\n",
      "[1, 2, 0, 4, 5, 3, 7, 8, 6] h=2 moves: 18\n",
      "[1, 2, 3, 4, 5, 0, 7, 8, 6] h=1 moves: 19\n",
      "[1, 2, 3, 4, 5, 6, 7, 8, 0] h=0 moves: 20\n"
     ]
    }
   ],
   "source": [
    "funny_puzzle.solve([1,2,4,3,7,5,0,8,6])"
   ]
  },
  {
   "cell_type": "code",
   "execution_count": 3,
   "metadata": {},
   "outputs": [
    {
     "name": "stdout",
     "output_type": "stream",
     "text": [
      "[1, 3, 4, 8, 7, 5, 0, 2, 6] h=12 moves: 0\n",
      "[1, 3, 4, 0, 7, 5, 8, 2, 6] h=11 moves: 1\n",
      "[1, 3, 4, 7, 0, 5, 8, 2, 6] h=10 moves: 2\n",
      "[1, 3, 4, 7, 2, 5, 8, 0, 6] h=9 moves: 3\n",
      "[1, 3, 4, 7, 2, 5, 8, 6, 0] h=10 moves: 4\n",
      "[1, 3, 4, 7, 2, 0, 8, 6, 5] h=11 moves: 5\n",
      "[1, 3, 0, 7, 2, 4, 8, 6, 5] h=10 moves: 6\n",
      "[1, 0, 3, 7, 2, 4, 8, 6, 5] h=9 moves: 7\n",
      "[1, 2, 3, 7, 0, 4, 8, 6, 5] h=8 moves: 8\n",
      "[1, 2, 3, 7, 4, 0, 8, 6, 5] h=7 moves: 9\n",
      "[1, 2, 3, 7, 4, 5, 8, 6, 0] h=6 moves: 10\n",
      "[1, 2, 3, 7, 4, 5, 8, 0, 6] h=5 moves: 11\n",
      "[1, 2, 3, 7, 4, 5, 0, 8, 6] h=4 moves: 12\n",
      "[1, 2, 3, 0, 4, 5, 7, 8, 6] h=3 moves: 13\n",
      "[1, 2, 3, 4, 0, 5, 7, 8, 6] h=2 moves: 14\n",
      "[1, 2, 3, 4, 5, 0, 7, 8, 6] h=1 moves: 15\n",
      "[1, 2, 3, 4, 5, 6, 7, 8, 0] h=0 moves: 16\n"
     ]
    }
   ],
   "source": [
    "funny_puzzle.solve([1,3,4,8,7,5,0,2,6])"
   ]
  },
  {
   "cell_type": "code",
   "execution_count": 4,
   "metadata": {},
   "outputs": [
    {
     "name": "stdout",
     "output_type": "stream",
     "text": [
      "[1, 7, 4, 5, 8, 2, 3, 6, 0] h=16 moves: 0\n",
      "[1, 7, 4, 5, 8, 2, 3, 0, 6] h=15 moves: 1\n",
      "[1, 7, 4, 5, 0, 2, 3, 8, 6] h=14 moves: 2\n",
      "[1, 0, 4, 5, 7, 2, 3, 8, 6] h=13 moves: 3\n",
      "[1, 4, 0, 5, 7, 2, 3, 8, 6] h=12 moves: 4\n",
      "[1, 4, 2, 5, 7, 0, 3, 8, 6] h=11 moves: 5\n",
      "[1, 4, 2, 5, 7, 6, 3, 8, 0] h=10 moves: 6\n",
      "[1, 4, 2, 5, 7, 6, 3, 0, 8] h=11 moves: 7\n",
      "[1, 4, 2, 5, 7, 6, 0, 3, 8] h=10 moves: 8\n",
      "[1, 4, 2, 0, 7, 6, 5, 3, 8] h=11 moves: 9\n",
      "[1, 4, 2, 7, 0, 6, 5, 3, 8] h=10 moves: 10\n",
      "[1, 4, 2, 7, 3, 6, 5, 0, 8] h=9 moves: 11\n",
      "[1, 4, 2, 7, 3, 6, 5, 8, 0] h=8 moves: 12\n",
      "[1, 4, 2, 7, 3, 0, 5, 8, 6] h=9 moves: 13\n",
      "[1, 4, 2, 7, 0, 3, 5, 8, 6] h=8 moves: 14\n",
      "[1, 0, 2, 7, 4, 3, 5, 8, 6] h=7 moves: 15\n",
      "[1, 2, 0, 7, 4, 3, 5, 8, 6] h=6 moves: 16\n",
      "[1, 2, 3, 7, 4, 0, 5, 8, 6] h=5 moves: 17\n",
      "[1, 2, 3, 7, 4, 6, 5, 8, 0] h=4 moves: 18\n",
      "[1, 2, 3, 7, 4, 6, 5, 0, 8] h=5 moves: 19\n",
      "[1, 2, 3, 7, 4, 6, 0, 5, 8] h=4 moves: 20\n",
      "[1, 2, 3, 0, 4, 6, 7, 5, 8] h=3 moves: 21\n",
      "[1, 2, 3, 4, 0, 6, 7, 5, 8] h=2 moves: 22\n",
      "[1, 2, 3, 4, 5, 6, 7, 0, 8] h=1 moves: 23\n",
      "[1, 2, 3, 4, 5, 6, 7, 8, 0] h=0 moves: 24\n"
     ]
    }
   ],
   "source": [
    "funny_puzzle.solve([1,7,4,5,8,2,3,6,0])"
   ]
  }
 ],
 "metadata": {
  "kernelspec": {
   "display_name": "Python 3",
   "language": "python",
   "name": "python3"
  },
  "language_info": {
   "codemirror_mode": {
    "name": "ipython",
    "version": 3
   },
   "file_extension": ".py",
   "mimetype": "text/x-python",
   "name": "python",
   "nbconvert_exporter": "python",
   "pygments_lexer": "ipython3",
   "version": "3.8.5"
  }
 },
 "nbformat": 4,
 "nbformat_minor": 4
}
